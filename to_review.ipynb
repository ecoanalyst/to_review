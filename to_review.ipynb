{
 "cells": [
  {
   "cell_type": "code",
   "execution_count": 1,
   "metadata": {
    "scrolled": true
   },
   "outputs": [],
   "source": [
    "import pandas as pd\n",
    "import numpy as np\n",
    "import matplotlib.pyplot as plt\n",
    "import seaborn as sns\n",
    "\n",
    "sns.set(style=\"darkgrid\")\n"
   ]
  },
  {
   "cell_type": "code",
   "execution_count": 2,
   "metadata": {},
   "outputs": [],
   "source": [
    "# loading datasets\n",
    "\n",
    "# calls_url = 'https://code.s3.yandex.net/datasets/megaline_calls.csv'\n",
    "# internet_url = 'https://code.s3.yandex.net/datasets/megaline_internet.csv'\n",
    "# messages_url = 'https://code.s3.yandex.net/datasets/megaline_messages.csv'\n",
    "# plans_url = 'https://code.s3.yandex.net/datasets/megaline_plans.csv'\n",
    "# users1_url = 'https://code.s3.yandex.net/datasets/megaline_users1.csv'\n",
    "\n",
    "# calls_df = pd.read_csv(calls_url, parse_dates=['call_date'])\n",
    "# internet_df = pd.read_csv(internet_url, parse_dates=['session_date'])\n",
    "# messages_df = pd.read_csv(messages_url, parse_dates=['message_date'])\n",
    "# plans_df = pd.read_csv(plans_url)\n",
    "# users1_df = pd.read_csv(users1_url, parse_dates=['reg_date', 'churn_date'])\n",
    "\n",
    "# let's convert the date of mssg/call/inet/reg/churn to 'datetime64'\n",
    "\n",
    "calls_df = pd.read_csv('megaline_calls.csv', parse_dates=['call_date'])\n",
    "internet_df = pd.read_csv('megaline_internet.csv', parse_dates=['session_date'])\n",
    "messages_df = pd.read_csv('megaline_messages.csv', parse_dates=['message_date'])\n",
    "plans_df = pd.read_csv('megaline_plans.csv')\n",
    "users1_df = pd.read_csv('megaline_users1.csv', parse_dates=['reg_date', 'churn_date'])\n"
   ]
  },
  {
   "cell_type": "code",
   "execution_count": 3,
   "metadata": {},
   "outputs": [
    {
     "name": "stdout",
     "output_type": "stream",
     "text": [
      "megaline_calls.csv\n",
      "         id  user_id  call_date  duration\n",
      "0   1000_93     1000 2018-12-27      8.52\n",
      "1  1000_145     1000 2018-12-27     13.66\n",
      "2  1000_247     1000 2018-12-27     14.48\n",
      "              id  user_id  call_date  duration\n",
      "137732  1499_201     1499 2018-09-21      8.12\n",
      "137733  1499_202     1499 2018-10-10      0.37\n",
      "137734  1499_203     1499 2018-12-29     13.86\n",
      "\n",
      "megaline_internet.csv\n",
      "         id  user_id session_date  mb_used\n",
      "0   1000_13     1000   2018-12-29    89.86\n",
      "1  1000_204     1000   2018-12-31     0.00\n",
      "2  1000_379     1000   2018-12-28   660.40\n",
      "              id  user_id session_date  mb_used\n",
      "104822  1499_217     1499   2018-09-22   292.75\n",
      "104823  1499_218     1499   2018-12-07     0.00\n",
      "104824  1499_219     1499   2018-12-24   758.31\n",
      "\n",
      "megaline_messages.csv\n",
      "         id  user_id message_date\n",
      "0  1000_125     1000   2018-12-27\n",
      "1  1000_160     1000   2018-12-31\n",
      "2  1000_223     1000   2018-12-31\n",
      "             id  user_id message_date\n",
      "76048  1497_547     1497   2018-12-31\n",
      "76049  1497_558     1497   2018-12-24\n",
      "76050  1497_613     1497   2018-12-23\n",
      "\n",
      "megaline_users1.csv\n",
      "   user_id first_name  last_name  age                                   city  \\\n",
      "0     1000   Anamaria      Bauer   45  Atlanta-Sandy Springs-Roswell, GA MSA   \n",
      "1     1001     Mickey  Wilkerson   28        Seattle-Tacoma-Bellevue, WA MSA   \n",
      "2     1002     Carlee    Hoffman   36   Las Vegas-Henderson-Paradise, NV MSA   \n",
      "\n",
      "    reg_date      plan churn_date  \n",
      "0 2018-12-24  ultimate        NaT  \n",
      "1 2018-08-13      surf        NaT  \n",
      "2 2018-10-21      surf        NaT  \n",
      "     user_id first_name   last_name  age  \\\n",
      "497     1497      Donte     Barrera   49   \n",
      "498     1498       Scot  Williamson   51   \n",
      "499     1499      Shena     Dickson   37   \n",
      "\n",
      "                                          city   reg_date      plan churn_date  \n",
      "497     Los Angeles-Long Beach-Anaheim, CA MSA 2018-12-10  ultimate        NaT  \n",
      "498  New York-Newark-Jersey City, NY-NJ-PA MSA 2018-02-04      surf        NaT  \n",
      "499          Orlando-Kissimmee-Sanford, FL MSA 2018-05-06      surf        NaT  \n",
      "\n",
      "megaline_plans.csv\n",
      "   messages_included  mb_per_month_included  minutes_included  \\\n",
      "0                 50                  15360               500   \n",
      "1               1000                  30720              3000   \n",
      "\n",
      "   usd_monthly_pay  usd_per_gb  usd_per_message  usd_per_minute plan_name  \n",
      "0               20          10             0.03            0.03      surf  \n",
      "1               70           7             0.01            0.01  ultimate  \n",
      "\n"
     ]
    }
   ],
   "source": [
    "# look ahead and print the datasets heads\n",
    "# and tails at the end\n",
    "\n",
    "print('megaline_calls.csv')\n",
    "print(calls_df.head(3))\n",
    "print(calls_df.tail(3), end='\\n\\n')\n",
    "print('megaline_internet.csv')\n",
    "print(internet_df.head(3))\n",
    "print(internet_df.tail(3), end='\\n\\n')\n",
    "print('megaline_messages.csv')\n",
    "print(messages_df.head(3))\n",
    "print(messages_df.tail(3), end='\\n\\n')\n",
    "print('megaline_users1.csv')\n",
    "print(users1_df.head(3))\n",
    "print(users1_df.tail(3), end='\\n\\n')\n",
    "print('megaline_plans.csv')\n",
    "print(plans_df.head(2), end='\\n\\n')"
   ]
  },
  {
   "cell_type": "markdown",
   "metadata": {},
   "source": [
    "Seems like `reg_date ` dosn&#39;t match with the description bellow\n",
    "- **in the description** (dd, mm, yy)\n",
    "- **in the dataset** (yyyy-mm-dd)\n",
    "\n",
    "But it&#39;s not a big deal, right)\n",
    "We may change the description, shall we?"
   ]
  },
  {
   "cell_type": "markdown",
   "metadata": {},
   "source": [
    "# Description of the data\n",
    "\n",
    "The `users` table (data on users):\n",
    "\n",
    "- *user_id* — unique user identifier\n",
    "- *first_name* — user's name\n",
    "- *last_name* — user's last name\n",
    "- *age* — user's age (years)\n",
    "- *reg_date* — subscription date (dd, mm, yy) **it's actually (yyyy-mm-dd)**\n",
    "- *churn_date* — the date the user stopped using the service (if the value is missing, the calling plan was being used when this data was generated) **so here we have some missunderstanding as well**\n",
    "- *city* — user's city of residence\n",
    "- *plan* — calling plan name\n",
    "\n",
    "The `calls` table (data on calls):\n",
    "\n",
    "- *id* — unique call identifier\n",
    "- *call_date* — call date\n",
    "- *duration* — call duration (in minutes)\n",
    "- *user_id* — the identifier of the user making the call\n",
    "\n",
    "The `messages` table (data on texts):\n",
    "\n",
    "- *id* — unique text message identifier\n",
    "- *message_date* — text message date\n",
    "- *user_id* — the identifier of the user sending the text\n",
    "\n",
    "The `internet` table (data on web sessions):\n",
    "\n",
    "- *id* — unique session identifier\n",
    "- *mb_used* — the volume of data spent during the session (in megabytes)\n",
    "- *session_date* — web session date\n",
    "- *user_id* — user identifier\n",
    "\n",
    "The `plans` table (data on the plans):\n",
    "\n",
    "- *plan_name* — calling plan name\n",
    "- *usd_monthly_fee* — monthly charge in US dollars\n",
    "- *minutes_included* — monthly minute allowance\n",
    "- *messages_included* — monthly text allowance\n",
    "- *mb_per_month_included* — data volume allowance (in megabytes)\n",
    "- *usd_per_minute* — price per minute after exceeding the package limits (e.g., if the package includes 100 minutes, the 101st minute will be charged)\n",
    "- *usd_per_message* — price per text after exceeding the package limits\n",
    "- *usd_per_gb* — price per extra gigabyte of data after exceeding the package limits (1 GB = 1024 megabytes)"
   ]
  },
  {
   "cell_type": "code",
   "execution_count": 24,
   "metadata": {},
   "outputs": [
    {
     "name": "stdout",
     "output_type": "stream",
     "text": [
      "megaline_calls datatypes:\n",
      "id                   object\n",
      "user_id               int64\n",
      "call_date    datetime64[ns]\n",
      "duration            float64\n",
      "dtype: object\n",
      "\n",
      "megaline_internet datatypes:\n",
      "id                      object\n",
      "user_id                  int64\n",
      "session_date    datetime64[ns]\n",
      "mb_used                float64\n",
      "dtype: object\n",
      "\n",
      "megaline_messages datatypes:\n",
      "id                      object\n",
      "user_id                  int64\n",
      "message_date    datetime64[ns]\n",
      "dtype: object\n",
      "\n",
      "megaline_plans datatypes:\n",
      "messages_included          int64\n",
      "mb_per_month_included      int64\n",
      "minutes_included           int64\n",
      "usd_monthly_pay            int64\n",
      "usd_per_gb                 int64\n",
      "usd_per_message          float64\n",
      "usd_per_minute           float64\n",
      "plan_name                 object\n",
      "dtype: object\n",
      "\n",
      "megaline_users1 datatypes:\n",
      "user_id                int64\n",
      "first_name            object\n",
      "last_name             object\n",
      "age                    int64\n",
      "city                  object\n",
      "reg_date      datetime64[ns]\n",
      "plan                  object\n",
      "churn_date    datetime64[ns]\n",
      "dtype: object\n",
      "\n",
      "megaline_calls na:\n",
      "id           0\n",
      "user_id      0\n",
      "call_date    0\n",
      "duration     0\n",
      "dtype: int64\n",
      "\n",
      "megaline_calls max and min duration:\n",
      "37.6\n",
      "0.0\n",
      "\n",
      "(26834, 4)\n",
      "(137735, 4)\n",
      "megaline_internet na:\n",
      "id              0\n",
      "user_id         0\n",
      "session_date    0\n",
      "mb_used         0\n",
      "dtype: int64\n",
      "\n",
      "megaline_messages na:\n",
      "id              0\n",
      "user_id         0\n",
      "message_date    0\n",
      "dtype: int64\n",
      "\n",
      "megaline_plans na:\n",
      "messages_included        0\n",
      "mb_per_month_included    0\n",
      "minutes_included         0\n",
      "usd_monthly_pay          0\n",
      "usd_per_gb               0\n",
      "usd_per_message          0\n",
      "usd_per_minute           0\n",
      "plan_name                0\n",
      "dtype: int64\n",
      "\n",
      "megaline_users1 na:\n",
      "user_id         0\n",
      "first_name      0\n",
      "last_name       0\n",
      "age             0\n",
      "city            0\n",
      "reg_date        0\n",
      "plan            0\n",
      "churn_date    466\n",
      "dtype: int64\n",
      "\n",
      "megaline_users1 max and min age:\n",
      "75\n",
      "18\n",
      "\n",
      "the names of the planes\n",
      "['ultimate' 'surf']\n",
      "\n",
      "the unique cities\n",
      "     user_id      reg_code\n",
      "0       1000        GA MSA\n",
      "1       1001        WA MSA\n",
      "2       1002        NV MSA\n",
      "3       1003        OK MSA\n",
      "4       1004        WA MSA\n",
      "..       ...           ...\n",
      "495     1495  NY-NJ-PA MSA\n",
      "496     1496        LA MSA\n",
      "497     1497        CA MSA\n",
      "498     1498  NY-NJ-PA MSA\n",
      "499     1499        FL MSA\n",
      "\n",
      "[500 rows x 2 columns]\n",
      "\n",
      "megaline_users1 duplicated in user_id:\n",
      "0\n",
      "1000\n",
      "1499\n",
      "(500, 8)\n"
     ]
    }
   ],
   "source": [
    "# Finding errors in the datasets\n",
    "\n",
    "# Date in the data should be date)\n",
    "print('megaline_calls datatypes:')\n",
    "print(calls_df.dtypes, end='\\n\\n')\n",
    "\n",
    "print('megaline_internet datatypes:')\n",
    "print(internet_df.dtypes, end='\\n\\n')\n",
    "\n",
    "print('megaline_messages datatypes:')\n",
    "print(messages_df.dtypes, end='\\n\\n')\n",
    "\n",
    "print('megaline_plans datatypes:')\n",
    "print(plans_df.dtypes, end='\\n\\n')\n",
    "\n",
    "print('megaline_users1 datatypes:')\n",
    "print(users1_df.dtypes, end='\\n\\n')\n",
    "\n",
    "print('megaline_calls na:')\n",
    "print(calls_df.isna().sum(), end='\\n\\n')\n",
    "print('megaline_calls max and min duration:')\n",
    "print(calls_df.duration.max())\n",
    "print(calls_df.duration.min(), end='\\n\\n')\n",
    "zero_duration = calls_df[calls_df.duration == 0.0]\n",
    "print(zero_duration.shape)\n",
    "print(calls_df.shape)\n",
    "# Jeez, too many calls with zero duration..\n",
    "\n",
    "# checking for NAN items\n",
    "print('megaline_internet na:')\n",
    "print(internet_df.isna().sum(), end='\\n\\n')\n",
    "print('megaline_messages na:')\n",
    "print(messages_df.isna().sum(), end='\\n\\n')\n",
    "print('megaline_plans na:')\n",
    "print(plans_df.isna().sum(), end='\\n\\n')\n",
    "\n",
    "# Since we trust the description, in the next step we'll find some NA items.\n",
    "# Hope we'll find a lot and only in churn_date,\n",
    "# so most of our customers still our customers)\n",
    "print('megaline_users1 na:')\n",
    "print(users1_df.isna().sum(), end='\\n\\n')\n",
    "\n",
    "# in case we have curious ages\n",
    "print('megaline_users1 max and min age:')\n",
    "print(users1_df.age.max())\n",
    "print(users1_df.age.min(), end='\\n\\n')\n",
    "\n",
    "print('the names of the planes')\n",
    "print(users1_df.plan.unique(), end='\\n\\n')\n",
    "\n",
    "print('the unique cities')\n",
    "user_cities = []\n",
    "for city in users1_df.city:\n",
    "    user_cities.append(city.split(', ')[1].strip())\n",
    "user_cities = pd.DataFrame(data={'user_id': users1_df.user_id, 'reg_code':user_cities})\n",
    "print(user_cities, end='\\n\\n')\n",
    "\n",
    "print('megaline_users1 duplicated in user_id:')\n",
    "print(users1_df.user_id.duplicated().sum())\n",
    "\n",
    "print(users1_df.user_id.min())\n",
    "print(users1_df.user_id.max())\n",
    "print(users1_df.shape)\n"
   ]
  },
  {
   "cell_type": "markdown",
   "metadata": {},
   "source": [
    "### We have some issues with the codes of region\n",
    "it contains spaces, or somekind of nonprinting simbols"
   ]
  },
  {
   "cell_type": "code",
   "execution_count": 5,
   "metadata": {},
   "outputs": [],
   "source": [
    "# since the id mssg/call/inet is string\n",
    "# function to check the id mssg/call/inet is correct\n",
    "\n",
    "\n",
    "def is_id_correct (df_to_check):\n",
    "    no_number_items = df_to_check[~df_to_check.id.str.contains('[0-9_]')]\n",
    "    return no_number_items.empty\n",
    "\n"
   ]
  },
  {
   "cell_type": "code",
   "execution_count": 6,
   "metadata": {},
   "outputs": [
    {
     "name": "stdout",
     "output_type": "stream",
     "text": [
      "megaline_calls id is correct: True\n",
      "megaline_internet id is correct: True\n",
      "megaline_messages id is correct: True\n"
     ]
    }
   ],
   "source": [
    "print('megaline_calls id is correct', end=': ')\n",
    "print(is_id_correct(calls_df))\n",
    "print('megaline_internet id is correct', end=': ')\n",
    "print(is_id_correct(internet_df))\n",
    "print('megaline_messages id is correct', end=': ')\n",
    "print(is_id_correct(messages_df))\n"
   ]
  },
  {
   "cell_type": "markdown",
   "metadata": {},
   "source": [
    "## Function cecking that user actually stopped using the service\n",
    "\n",
    "just to be shure"
   ]
  },
  {
   "cell_type": "code",
   "execution_count": 7,
   "metadata": {},
   "outputs": [
    {
     "name": "stdout",
     "output_type": "stream",
     "text": [
      "4 users stopped using service after unsubscribtion\n",
      "30 users continued using service after unsubscribtion\n"
     ]
    }
   ],
   "source": [
    "def activity_after_unsubscr (unsubscr_users):\n",
    "    stop_after_unsubscr = 0\n",
    "    use_after_unsubscr = 0\n",
    "    for user_id in unsubscr_users.user_id:\n",
    "        unsubscription_date = users1_df[users1_df['user_id'] == user_id].churn_date.item()\n",
    "        user_calls_date = calls_df[(calls_df['user_id'] == user_id) & (calls_df['duration'] > 0.0)].call_date\n",
    "        max_call_date = user_calls_date.max()\n",
    "        user_message_date = messages_df[messages_df['user_id'] == user_id].message_date\n",
    "        max_message_date = user_message_date.max()\n",
    "        user_internet_date = internet_df[(internet_df['user_id'] == user_id) & (internet_df['mb_used'] > 0.0)].session_date\n",
    "        max_internet_date = user_internet_date.max()\n",
    "        \n",
    "        if max_call_date > unsubscription_date:\n",
    "            calls_unsubscr = calls_df[(calls_df['user_id'] == user_id) &\n",
    "                                      (calls_df['call_date'] > unsubscription_date) &\n",
    "                                      (calls_df['duration'] > 0.0)]\n",
    "            max_unsubscr_call_date = calls_unsubscr.call_date.max()\n",
    "            min_unsubscr_call_date = calls_unsubscr.call_date.min()\n",
    "#             print(f'user id {user_id} had {len(calls_unsubscr)} calls' ,end=' ')\n",
    "#             print(f'from {min_unsubscr_call_date.date()} to {max_unsubscr_call_date.date()}', end=' ')\n",
    "#             print(f'after unsubscription on {unsubscription_date.date()}')\n",
    "            use_after_unsubscr += 1\n",
    "        elif max_message_date > unsubscription_date:\n",
    "            pass\n",
    "#             print(f'user id {user_id} had a massage at {max_message_date.date()} after unsubscription at {unsubscription_date}')\n",
    "        elif max_internet_date > unsubscription_date:\n",
    "            pass\n",
    "#             print(f'user id {user_id} had an internet usage at {max_internet_date.date()} after unsubscription at {unsubscription_date}')\n",
    "        else:\n",
    "#             print(f'user id {user_id} is alright after unsubscription')\n",
    "            stop_after_unsubscr += 1\n",
    "      \n",
    "    print(f'{stop_after_unsubscr} users stopped using service after unsubscribtion')\n",
    "    print(f'{use_after_unsubscr} users continued using service after unsubscribtion')\n",
    "\n",
    "        \n",
    "unsubscribed_users = users1_df[users1_df['churn_date'].notna()]            \n",
    "activity_after_unsubscr(unsubscribed_users)"
   ]
  },
  {
   "cell_type": "markdown",
   "metadata": {},
   "source": [
    "### O! just hope that&#39;s not an error of dataset\n",
    "But we&#39;ll put some note to data description.\n",
    "\n",
    "- maybe `churn_date` isn&#39;t the date when user stopped using the **service**\n",
    "  \n",
    "- maybe `churn_date` is the date when user stopped **subscription**\n",
    "  \n",
    "And it's only with the calls, strange, right 🤔\n",
    "**Definitely we should clarify.**"
   ]
  },
  {
   "cell_type": "markdown",
   "metadata": {},
   "source": [
    "### There is one more strange thing, that I can&#39;t understand\n",
    "The `id` of call, internet or message isn&#39;t in the date order sometimes.\n",
    "\n",
    "for example:\n",
    "- `1000_223 1000 2018-12-31`\n",
    "  \n",
    "- `1000_251 1000 2018-12-27`\n",
    "\n",
    "**is that a bug or sort of?** 🤷‍♂️"
   ]
  },
  {
   "cell_type": "markdown",
   "metadata": {},
   "source": [
    ">**For each user, find:**\n",
    ">\n",
    ">- The number of calls made and minutes used per month\n",
    ">- The number of text messages sent per month\n",
    ">- The volume of data per month\n",
    ">- The monthly profit from each user (subtract the free package limit from the total number of calls, text messages, and data; multiply the result by the calling plan value; add the monthly charge depending on the calling plan)"
   ]
  },
  {
   "cell_type": "markdown",
   "metadata": {},
   "source": [
    "### First things first\n",
    "I assuming that &#39;*per month*&#39; meaning is bills month.\n",
    "\n",
    "So here we go:"
   ]
  },
  {
   "cell_type": "code",
   "execution_count": 8,
   "metadata": {},
   "outputs": [],
   "source": [
    "\n",
    "def lastest_log_date_in(cll_df, txt_df, int_df):\n",
    "    last_log_date_cll = cll_df.call_date.max()\n",
    "    last_log_date_txt = txt_df.message_date.max()\n",
    "    last_log_date_int = int_df.session_date.max()\n",
    "    last_log_date = max(last_log_date_cll, last_log_date_txt, last_log_date_int)\n",
    "    return last_log_date\n",
    "\n",
    "\n",
    "# monthly profit function\n",
    "\n",
    "    \n",
    "def monthly_profit_df (user_id):\n",
    "    subscr_date = users1_df[users1_df['user_id'] == user_id].reg_date\n",
    "    unsubscr_date = users1_df[users1_df['user_id'] == user_id].churn_date\n",
    "    \n",
    "    # user last activity in log\n",
    "    user_last_date_cll = calls_df[(calls_df['user_id'] == user_id)].call_date.max()\n",
    "    user_last_date_txt = messages_df[(messages_df['user_id'] == user_id)].message_date.max()\n",
    "    user_last_date_int = internet_df[(internet_df['user_id'] == user_id)].session_date.max()\n",
    "    user_last_date_act = max(user_last_date_cll, user_last_date_txt, user_last_date_int)\n",
    "    \n",
    "    # info about users plan\n",
    "    user_packege = users1_df[users1_df['user_id'] == user_id].plan.item()\n",
    "    user_plan = plans_df[plans_df['plan_name'] == user_packege]\n",
    "    minutes_u_plan = user_plan.minutes_included.item()\n",
    "    mb_u_plan = user_plan.mb_per_month_included.item()\n",
    "    msg_u_plan = user_plan.messages_included.item()\n",
    "    \n",
    "    # price for extra in users plan\n",
    "    xtr_mnts_plan = user_plan.usd_per_minute.item()\n",
    "    xtr_gb_plan = user_plan.usd_per_gb.item()\n",
    "    xtr_msg_plan = user_plan.usd_per_message.item()\n",
    "        \n",
    "    extra_profit_data = []\n",
    "    call_drtn_mthly = []\n",
    "    gt0_call_mthly = []\n",
    "    zero_call_mthly = []\n",
    "    gb_mthly = []\n",
    "    msg_mthly = []\n",
    "    extra_profit_mthly = []\n",
    "    xtr_prft_cll_mthly = []\n",
    "    xtr_prft_msg_mthly = []\n",
    "    xtr_prft_int_mthly = []\n",
    "    xtr_prft_cll_msg_int = []\n",
    "    mnts_ndd_mthly_bll = []\n",
    "    msg_ndd_mthly_bll = []\n",
    "    gb_ndd_mthly_bll = []\n",
    "    \n",
    "    end_date = lastest_log_date if pd.isnull(unsubscr_date.item()) else unsubscr_date\n",
    "    bill_month_count = int((lastest_log_date - subscr_date) / np.timedelta64(1, 'M'))\n",
    "\n",
    "    for num_moth in range(bill_month_count):\n",
    "        from_date = subscr_date + pd.offsets.MonthOffset(num_moth)\n",
    "        to_date = subscr_date + pd.offsets.MonthOffset(num_moth + 1)\n",
    "\n",
    "        #     calls monthly bill dates\n",
    "        calls_in_month = calls_df[(calls_df['user_id'] == user_id)\n",
    "                                  & (calls_df['call_date'] >= from_date.item())\n",
    "                                  & (calls_df['call_date'] < to_date.item())]\n",
    "\n",
    "        user_zero_duration_calls = calls_in_month[calls_in_month['duration'] == 0.0].duration.count()\n",
    "        user_gt0_duration_calls = calls_in_month[calls_in_month['duration'] > 0.0].duration\n",
    "        zero_call_mthly.append(user_zero_duration_calls)\n",
    "        gt0_call_mthly.append(user_gt0_duration_calls.count())\n",
    "\n",
    "        #     message monthly bill dates\n",
    "        user_message_date = messages_df[(messages_df['user_id'] == user_id) \n",
    "                                    & (messages_df['message_date'] >= from_date.item())\n",
    "                                    & (messages_df['message_date'] < to_date.item())]\n",
    "\n",
    "        #     internet monthly bill dates\n",
    "        user_internet_date = internet_df[(internet_df['user_id'] == user_id)\n",
    "                                    & (internet_df['mb_used'] > 0.0)\n",
    "                                    & (internet_df['session_date'] >= from_date.item())\n",
    "                                    & (internet_df['session_date'] < to_date.item())]\n",
    "\n",
    "        mnts_ndd_mthly = user_gt0_duration_calls.sum()\n",
    "        mnts_ndd_mthly_bll.append(mnts_ndd_mthly)\n",
    "        msg_ndd_mthly = user_message_date.message_date.count()\n",
    "        msg_ndd_mthly_bll.append(msg_ndd_mthly)\n",
    "        mb_ndd_mthly = user_internet_date.mb_used.sum()\n",
    "        gb_ndd_mthly = int(np.ceil(mb_ndd_mthly / 1024))\n",
    "        gb_ndd_mthly_bll.append(gb_ndd_mthly)\n",
    "        \n",
    "        extra_call_drtn = mnts_ndd_mthly - minutes_u_plan\n",
    "        extra_call_drtn = extra_call_drtn if extra_call_drtn > 0.0 else 0\n",
    "        extra_call_drtn_modf = np.modf(extra_call_drtn)\n",
    "        extra_call_drtn = int(np.ceil(extra_call_drtn) if extra_call_drtn_modf[0] > .167 else extra_call_drtn)\n",
    "        call_drtn_mthly.append(extra_call_drtn)\n",
    "\n",
    "        extra_msg_mthly = msg_ndd_mthly - msg_u_plan\n",
    "        extra_msg_mthly = extra_msg_mthly if extra_msg_mthly > 0 else 0\n",
    "        msg_mthly.append(extra_msg_mthly)\n",
    "\n",
    "        extra_gb_mthly = int(np.ceil((mb_ndd_mthly - mb_u_plan) / 1024))\n",
    "        extra_gb_mthly = extra_gb_mthly if extra_gb_mthly > 0.0 else 0\n",
    "        gb_mthly.append(extra_gb_mthly)\n",
    "\n",
    "        xtr_prft_cll = extra_call_drtn * xtr_mnts_plan\n",
    "        xtr_prft_cll_mthly.append(xtr_prft_cll)\n",
    "        xtr_prft_msg = extra_msg_mthly * xtr_msg_plan\n",
    "        xtr_prft_msg_mthly.append(xtr_prft_msg)\n",
    "        xtr_prft_int = extra_gb_mthly * xtr_gb_plan\n",
    "        xtr_prft_int_mthly.append(xtr_prft_int)\n",
    "        xtr_prft_cll_msg_int.append(xtr_prft_cll + xtr_prft_msg + xtr_prft_int)\n",
    "\n",
    "        extra_profit_df.loc[user_id] = [call_drtn_mthly, gt0_call_mthly, zero_call_mthly,\n",
    "                                  gb_mthly, msg_mthly, xtr_prft_cll_msg_int,\n",
    "                                  xtr_prft_cll_mthly, xtr_prft_msg_mthly, xtr_prft_int_mthly, user_packege,\n",
    "                                       mnts_ndd_mthly_bll, msg_ndd_mthly_bll, gb_ndd_mthly_bll]\n",
    "\n",
    "        \n",
    "\n",
    "\n",
    "\n",
    "extra_columns = ['call_drtn_mthly', 'gt0_call_mthly', 'zero_call_mthly',\n",
    "                             'gb_mthly', 'msg_mthly', 'xtr_prft_cll_msg_int',\n",
    "                             'xtr_prft_cll_mthly', 'xtr_prft_msg_mthly', 'xtr_prft_int_mthly',\n",
    "                 'user_packege', 'mnts_ndd_mthly_bll', 'msg_ndd_mthly_bll', 'gb_ndd_mthly_bll']\n",
    "extra_profit_df = pd.DataFrame(index=users1_df.user_id, columns=extra_columns)\n",
    "\n",
    "lastest_log_date = lastest_log_date_in(calls_df, messages_df, internet_df)\n",
    "\n",
    "for user_id in users1_df.user_id:\n",
    "    monthly_profit_df(user_id)\n",
    "\n",
    "extra_profit_df.to_csv('extra_profit.csv')\n",
    "\n",
    "#         it would be so nice add profit after subscribtion end"
   ]
  },
  {
   "cell_type": "markdown",
   "metadata": {},
   "source": [
    "### the monthly profit by plan"
   ]
  },
  {
   "cell_type": "markdown",
   "metadata": {},
   "source": [
    "> - The average profit from users of Ultimate and Surf calling plans differs."
   ]
  },
  {
   "cell_type": "code",
   "execution_count": 9,
   "metadata": {},
   "outputs": [
    {
     "name": "stdout",
     "output_type": "stream",
     "text": [
      "extra profit from surf users 40.0\n",
      "surf users with extra profit 311\n",
      "extra profit from ultimate users 28.0\n",
      "ultimate users with extra profit 152\n"
     ]
    }
   ],
   "source": [
    "surf_xtr_prft_mthly = extra_profit_df[extra_profit_df.user_packege == 'surf'].xtr_prft_cll_msg_int\n",
    "ulti_xtr_prft_mthly = extra_profit_df[extra_profit_df.user_packege == 'ultimate'].xtr_prft_cll_msg_int\n",
    "\n",
    "surf_xtr_prft_mthly_bll = []\n",
    "ulti_xtr_prft_mthly_bll = []\n",
    "\n",
    "for item_xtr_prft in surf_xtr_prft_mthly:\n",
    "    surf_xtr_prft_mthly_bll.extend(item_xtr_prft)\n",
    "surf_xtr_prft_mthly_bll = pd.Series([round(i, 3) for i in surf_xtr_prft_mthly_bll if i != 0])\n",
    "\n",
    "for item_xtr_prft in ulti_xtr_prft_mthly:\n",
    "    ulti_xtr_prft_mthly_bll.extend(item_xtr_prft)\n",
    "ulti_xtr_prft_mthly_bll = pd.Series([round(i, 3) for i in ulti_xtr_prft_mthly_bll if i != 0])\n",
    "\n",
    "print('extra profit from surf users', round((surf_xtr_prft_mthly_bll.median()), 2))\n",
    "print('surf users with extra profit', surf_xtr_prft_mthly.count())\n",
    "print('extra profit from ultimate users', round((ulti_xtr_prft_mthly_bll.median()), 2))\n",
    "print('ultimate users with extra profit', ulti_xtr_prft_mthly.count())\n"
   ]
  },
  {
   "cell_type": "markdown",
   "metadata": {},
   "source": [
    "### seems like surfers wins the advertising budget, huh\n",
    "Because surf and ultimate customers use calls / texts / internet almost the same.\n",
    "\n",
    "But surfers median extra profit 40 dollars per month instad of 28 dollars per month from ultimate users."
   ]
  },
  {
   "cell_type": "markdown",
   "metadata": {},
   "source": [
    "### the minutes the users of each plan require per month"
   ]
  },
  {
   "cell_type": "code",
   "execution_count": 10,
   "metadata": {},
   "outputs": [
    {
     "name": "stdout",
     "output_type": "stream",
     "text": [
      "surf mean 426.15\n",
      "ultimate mean 421.31\n",
      "surf standart deviation 203.98\n",
      "ultimate standart deviation 219.39\n"
     ]
    },
    {
     "data": {
      "text/plain": [
       "Text(0.5, 0, 'Monthly calls, minutes')"
      ]
     },
     "execution_count": 10,
     "metadata": {},
     "output_type": "execute_result"
    },
    {
     "data": {
      "image/png": "[encoded data removed]",
      "text/plain": [
       "<Figure size 432x288 with 1 Axes>"
      ]
     },
     "metadata": {},
     "output_type": "display_data"
    }
   ],
   "source": [
    "surf_mnts_mthly = extra_profit_df[extra_profit_df.user_packege == 'surf'].mnts_ndd_mthly_bll\n",
    "ulti_mnts_mthly = extra_profit_df[extra_profit_df.user_packege == 'ultimate'].mnts_ndd_mthly_bll\n",
    "\n",
    "surf_mnts_mthly_bll = []\n",
    "ulti_mnts_mthly_bll = []\n",
    "\n",
    "for item_time in surf_mnts_mthly:\n",
    "    surf_mnts_mthly_bll.extend(item_time)\n",
    "surf_mnts_mthly_bll = pd.Series([round(i, 3) for i in surf_mnts_mthly_bll if i != 0])\n",
    "\n",
    "for item_time in ulti_mnts_mthly:\n",
    "    ulti_mnts_mthly_bll.extend(item_time)\n",
    "ulti_mnts_mthly_bll = pd.Series([round(i, 3) for i in ulti_mnts_mthly_bll if i != 0])\n",
    "\n",
    "print('surf mean', round(surf_mnts_mthly_bll.mean(), 2))\n",
    "print('ultimate mean', round(ulti_mnts_mthly_bll.mean(), 2))\n",
    "# I just like median more then mean)\n",
    "# print('surf median', round(surf_mnts_mthly_bll.median(), 2))\n",
    "# print('ultimate median', round(ulti_mnts_mthly_bll.median(), 2))\n",
    "print('surf standart deviation', round(surf_mnts_mthly_bll.std(), 2))\n",
    "print('ultimate standart deviation', round(ulti_mnts_mthly_bll.std(), 2))\n",
    "\n",
    "sns.distplot(surf_mnts_mthly_bll, bins=37, label='surf')\n",
    "sns.distplot(ulti_mnts_mthly_bll, bins=37, label='ultimate')\n",
    "\n",
    "plt.legend(prop={'size': 13})\n",
    "plt.title('Surf and Ultimate ussers calls')\n",
    "plt.xlabel('Monthly calls, minutes')\n"
   ]
  },
  {
   "cell_type": "markdown",
   "metadata": {},
   "source": [
    "### the text the users of each plan require per month"
   ]
  },
  {
   "cell_type": "code",
   "execution_count": 11,
   "metadata": {},
   "outputs": [
    {
     "name": "stdout",
     "output_type": "stream",
     "text": [
      "surf mean 40.66\n",
      "ultimate mean 47.46\n",
      "surf standart deviation 32.2\n",
      "ultimate standart deviation 32.25\n"
     ]
    },
    {
     "data": {
      "text/plain": [
       "Text(0.5, 0, 'Monthly messages')"
      ]
     },
     "execution_count": 11,
     "metadata": {},
     "output_type": "execute_result"
    },
    {
     "data": {
      "image/png": "[encoded data removed]",
      "text/plain": [
       "<Figure size 432x288 with 1 Axes>"
      ]
     },
     "metadata": {},
     "output_type": "display_data"
    }
   ],
   "source": [
    "surf_msg_mthly = extra_profit_df[extra_profit_df.user_packege == 'surf'].msg_ndd_mthly_bll\n",
    "ulti_msg_mthly = extra_profit_df[extra_profit_df.user_packege == 'ultimate'].msg_ndd_mthly_bll\n",
    "\n",
    "surf_msg_mthly_bll = []\n",
    "ulti_msg_mthly_bll = []\n",
    "\n",
    "for item_msg in surf_msg_mthly:\n",
    "    surf_msg_mthly_bll.extend(item_msg)\n",
    "surf_msg_mthly_bll = pd.Series([round(i, 3) for i in surf_msg_mthly_bll if i != 0])\n",
    "\n",
    "for item_msg in ulti_msg_mthly:\n",
    "    ulti_msg_mthly_bll.extend(item_msg)\n",
    "ulti_msg_mthly_bll = pd.Series([round(i, 3) for i in ulti_msg_mthly_bll if i != 0])\n",
    "\n",
    "print('surf mean', round(surf_msg_mthly_bll.mean(), 2))\n",
    "print('ultimate mean', round(ulti_msg_mthly_bll.mean(), 2))\n",
    "# I just like median more then mean)\n",
    "# print('surf median', round(surf_msg_mthly_bll.median(), 2))\n",
    "# print('ultimate median', round(ulti_msg_mthly_bll.median(), 2))\n",
    "print('surf standart deviation', round(surf_msg_mthly_bll.std(), 2))\n",
    "print('ultimate standart deviation', round(ulti_msg_mthly_bll.std(), 2))\n",
    "sns.distplot(surf_msg_mthly_bll, bins=37, label='surf')\n",
    "sns.distplot(ulti_msg_mthly_bll, bins=37, label='ultimate')\n",
    "\n",
    "plt.legend(prop={'size': 13})\n",
    "plt.title('Surf and Ultimate ussers messages')\n",
    "plt.xlabel('Monthly messages')\n"
   ]
  },
  {
   "cell_type": "markdown",
   "metadata": {},
   "source": [
    "### the volume of data the users of each plan require per month"
   ]
  },
  {
   "cell_type": "code",
   "execution_count": 12,
   "metadata": {},
   "outputs": [
    {
     "name": "stdout",
     "output_type": "stream",
     "text": [
      "surf mean 17.35\n",
      "ultimate mean 18.08\n",
      "surf standart deviation 7.23\n",
      "ultimate standart deviation 7.3\n"
     ]
    },
    {
     "data": {
      "text/plain": [
       "Text(0.5, 0, 'Monthly Gb')"
      ]
     },
     "execution_count": 12,
     "metadata": {},
     "output_type": "execute_result"
    },
    {
     "data": {
      "image/png": "[encoded data removed]",
      "text/plain": [
       "<Figure size 432x288 with 1 Axes>"
      ]
     },
     "metadata": {},
     "output_type": "display_data"
    }
   ],
   "source": [
    "surf_gb_mthly = extra_profit_df[extra_profit_df.user_packege == 'surf'].gb_ndd_mthly_bll\n",
    "ulti_gb_mthly = extra_profit_df[extra_profit_df.user_packege == 'ultimate'].gb_ndd_mthly_bll\n",
    "\n",
    "surf_gb_mthly_bll = []\n",
    "ulti_gb_mthly_bll = []\n",
    "\n",
    "\n",
    "for item_gb in surf_gb_mthly:\n",
    "    surf_gb_mthly_bll.extend(item_gb)\n",
    "surf_gb_mthly_bll = pd.Series([round(i, 3) for i in surf_gb_mthly_bll if i != 0])\n",
    "\n",
    "for item_gb in ulti_gb_mthly:\n",
    "    ulti_gb_mthly_bll.extend(item_gb)\n",
    "ulti_gb_mthly_bll = pd.Series([round(i, 3) for i in ulti_gb_mthly_bll if i != 0])\n",
    "\n",
    "print('surf mean', round(surf_gb_mthly_bll.mean(), 2))\n",
    "print('ultimate mean', round(ulti_gb_mthly_bll.mean(), 2))\n",
    "# I just like median more then mean)\n",
    "# print('surf median', round(surf_gb_mthly_bll.median(), 2))\n",
    "# print('ultimate median', round(ulti_gb_mthly_bll.median(), 2))\n",
    "print('surf standart deviation', round(surf_gb_mthly_bll.std(), 2))\n",
    "print('ultimate standart deviation', round(ulti_gb_mthly_bll.std(), 2))\n",
    "\n",
    "sns.distplot(surf_gb_mthly_bll, bins=37, label='surf')\n",
    "sns.distplot(ulti_gb_mthly_bll, bins=37, label='ultimate')\n",
    "\n",
    "plt.legend(prop={'size': 13})\n",
    "plt.title('Surf and Ultimate ussers internet')\n",
    "plt.xlabel('Monthly Gb')\n"
   ]
  },
  {
   "cell_type": "markdown",
   "metadata": {},
   "source": [
    "> - The average profit from users in NY-NJ area is different from that of the users from other regions."
   ]
  },
  {
   "cell_type": "markdown",
   "metadata": {},
   "source": [
    "### function to compare regions profit"
   ]
  },
  {
   "cell_type": "code",
   "execution_count": null,
   "metadata": {},
   "outputs": [],
   "source": []
  }
 ],
 "metadata": {
  "kernelspec": {
   "display_name": "Python 3",
   "language": "python",
   "name": "python3"
  },
  "language_info": {
   "codemirror_mode": {
    "name": "ipython",
    "version": 3
   },
   "file_extension": ".py",
   "mimetype": "text/x-python",
   "name": "python",
   "nbconvert_exporter": "python",
   "pygments_lexer": "ipython3",
   "version": "3.7.6"
  }
 },
 "nbformat": 4,
 "nbformat_minor": 4
}
